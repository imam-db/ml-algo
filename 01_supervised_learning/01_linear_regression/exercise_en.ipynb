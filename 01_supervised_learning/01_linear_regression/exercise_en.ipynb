{
 "cells": [
  {
   "cell_type": "markdown",
   "metadata": {},
   "source": [
    "# Linear Regression — Practical Exercises (English)\n",
    "\n",
    "Use this notebook to practice core Linear Regression skills."
   ]
  },
  {
   "cell_type": "markdown",
   "metadata": {},
   "source": [
    "## Learning Objectives\n",
    "- Implement Linear Regression from scratch\n",
    "- Use Linear Regression with scikit-learn\n",
    "- Perform basic data exploration and visualization\n",
    "- Evaluate model performance using appropriate metrics"
   ]
  },
  {
   "cell_type": "code",
   "execution_count": null,
   "metadata": {},
   "outputs": [],
   "source": [
    "# Setup\n",
    "import numpy as np\n",
    "import pandas as pd\n",
    "import matplotlib.pyplot as plt\n",
    "from sklearn.model_selection import train_test_split\n",
    "from sklearn.metrics import r2_score, mean_squared_error, mean_absolute_error\n",
    "from sklearn.linear_model import LinearRegression\n",
    "plt.style.use('seaborn-v0_8')\n"
   ]
  },
  {
   "cell_type": "markdown",
   "metadata": {},
   "source": [
    "## 📊 Exercise 1: Simple Linear Regression\n",
    "Instructions:\n",
    "1. Generate a simple linear dataset with noise (e.g., 100 points).\n",
    "2. Implement Linear Regression from scratch using gradient descent (or use the provided class).\n",
    "3. Visualize the regression line and data points.\n",
    "4. Compute R², MSE, and MAE on a held-out test set."
   ]
  },
  {
   "cell_type": "code",
   "execution_count": null,
   "metadata": {},
   "outputs": [],
   "source": [
    "# Your work here for Exercise 1\n",
    "# 1) Generate data\n",
    "# 2) Train a model (from scratch or sklearn)\n",
    "# 3) Plot results and compute metrics\n"
   ]
  },
  {
   "cell_type": "markdown",
   "metadata": {},
   "source": [
    "## 📊 Exercise 2: Multiple Linear Regression (Real Dataset)\n",
    "Instructions:\n",
    "1. Load a small real dataset (e.g., from scikit-learn or a CSV).\n",
    "2. Split data into training and test sets.\n",
    "3. Train LinearRegression (scikit-learn) on the training set.\n",
    "4. Evaluate performance on the test set (R², RMSE, MAE) and interpret coefficients."
   ]
  },
  {
   "cell_type": "code",
   "execution_count": null,
   "metadata": {},
   "outputs": [],
   "source": [
    "# Your work here for Exercise 2\n",
    "# 1) Load dataset\n",
    "# 2) Train/test split\n",
    "# 3) Train LinearRegression and evaluate\n"
   ]
  },
  {
   "cell_type": "markdown",
   "metadata": {},
   "source": [
    "## 📈 Exercise 3: Polynomial Features\n",
    "Instructions:\n",
    "1. Add polynomial features (degree 2 and 3) to a non-linear synthetic dataset.\n",
    "2. Compare performance against plain Linear Regression.\n",
    "3. Visualize fitted curves for each degree."
   ]
  },
  {
   "cell_type": "code",
   "execution_count": null,
   "metadata": {},
   "outputs": [],
   "source": [
    "# Your work here for Exercise 3\n",
    "# Hint: use PolynomialFeatures + LinearRegression in a Pipeline\n"
   ]
  },
  {
   "cell_type": "markdown",
   "metadata": {},
   "source": [
    "## 💡 Tips\n",
    "- Always visualize the data before modeling.\n",
    "- Check Linear Regression assumptions (linearity, homoscedasticity, normality, independence, no high multicollinearity).\n",
    "- Use cross-validation for more robust evaluation.\n",
    "\n",
    "## 🧪 Stretch Task\n",
    "Implement and compare Linear Regression with regularization (Ridge/Lasso).\n",
    "- Tune the regularization strength.\n",
    "- Compare bias/variance behavior and test performance."
   ]
  }
 ],
 "metadata": {
  "kernelspec": {
   "display_name": "Python 3",
   "language": "python",
   "name": "python3"
  },
  "language_info": {
   "name": "python",
   "pygments_lexer": "ipython3"
  }
 },
 "nbformat": 4,
 "nbformat_minor": 5
}
